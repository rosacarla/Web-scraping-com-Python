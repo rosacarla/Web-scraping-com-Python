{
  "nbformat": 4,
  "nbformat_minor": 0,
  "metadata": {
    "colab": {
      "provenance": [],
      "authorship_tag": "ABX9TyNNzhtdAHrV1OcJIcQjx9MJ",
      "include_colab_link": true
    },
    "kernelspec": {
      "name": "python3",
      "display_name": "Python 3"
    },
    "language_info": {
      "name": "python"
    }
  },
  "cells": [
    {
      "cell_type": "markdown",
      "metadata": {
        "id": "view-in-github",
        "colab_type": "text"
      },
      "source": [
        "<a href=\"https://colab.research.google.com/github/rosacarla/Web-scraping-with-Python/blob/main/summarization_mainsubject.ipynb\" target=\"_parent\"><img src=\"https://colab.research.google.com/assets/colab-badge.svg\" alt=\"Open In Colab\"/></a>"
      ]
    },
    {
      "cell_type": "markdown",
      "source": [
        "> # SUMARIZAÇÃO E TEMAS CENTRAIS\n",
        "CURSO: Tecnólogo em Inteligência Artificial Aplicada  \n",
        "DISCIPLINA: Agentes Conversacionais  \n",
        "AUTOR: Carla Edila Santos da Rosa Silveira  \n",
        "REQUISITO: construir algoritmo para sumarizar notícias e reportagens de um portal e encontrar assunto principal do texto buscado.  \n",
        "DATA: 04/09/2023\n",
        "\n",
        "\n",
        "-----------------------------------------------------------------------  \n",
        "<body>\n",
        "<center>\n",
        "<img src=\"https://i.postimg.cc/RZbnDjsz/summarization-image.jpg\" align=\"middle\">\n",
        "</body>"
      ],
      "metadata": {
        "id": "gPE2hoRbsvfq"
      }
    },
    {
      "cell_type": "markdown",
      "source": [
        "> ## 1. CONTEXTO  \n",
        "> <p align=\"justify\">A demanda é desenvolver um algoritmo que leia automaticamente notícias ou reportagens de determinado portal e apresente os principais assuntos relacionados a cada texto.</p>  \n",
        "> <p align=\"justify\">A intenção é que o usuário informe uma palavra-chave para o algoritmo buscar todas os textos que contenham esse termo no título e apresente um resumo dele com as principais palavras ligadas ao conteúdo.</p>\n",
        "\n"
      ],
      "metadata": {
        "id": "LYBZ_D5PwaTe"
      }
    },
    {
      "cell_type": "markdown",
      "source": [
        "> ## 2. COMO RESOLVER\n",
        "> <p align=\"justify\">Será utilizada a biblioteca <a href=\"https://www.crummy.com/software/BeautifulSoup/bs4/doc.ptbr/#:~:text=Beautiful%20Soup%20%C3%A9%20uma%20biblioteca,de%20an%C3%A1lise%20(parse%20tree)\">Beautiful Soup</a> para fazer o web-scraping dos dados do portal informativo, pré-processar os textos, gerar a bag of words, usar uma metodologia de sumarização baseada em frequência para selecionar as sentenças mais importantes.</p>  \n"
      ],
      "metadata": {
        "id": "j_5IUynrwe1s"
      }
    },
    {
      "cell_type": "markdown",
      "source": [
        "> ## 3. Importa bibliotecas necessárias ao WEB-SCRAPING e demais atividades"
      ],
      "metadata": {
        "id": "B2-_ZZcZBAin"
      }
    },
    {
      "cell_type": "code",
      "execution_count": 118,
      "metadata": {
        "colab": {
          "base_uri": "https://localhost:8080/",
          "height": 0
        },
        "id": "DeO2lnlWsIuA",
        "outputId": "5eb1386b-22f9-4193-c71a-9be25e74ec46"
      },
      "outputs": [
        {
          "output_type": "stream",
          "name": "stderr",
          "text": [
            "[nltk_data] Downloading package punkt to /root/nltk_data...\n",
            "[nltk_data]   Package punkt is already up-to-date!\n",
            "[nltk_data] Downloading package stopwords to /root/nltk_data...\n",
            "[nltk_data]   Package stopwords is already up-to-date!\n"
          ]
        },
        {
          "output_type": "execute_result",
          "data": {
            "text/plain": [
              "True"
            ]
          },
          "metadata": {},
          "execution_count": 118
        }
      ],
      "source": [
        "import requests\n",
        "from bs4 import BeautifulSoup\n",
        "from bs4.dammit import EncodingDetector\n",
        "import collections\n",
        "from string import punctuation\n",
        "from heapq import nlargest\n",
        "import nltk\n",
        "from nltk import tokenize\n",
        "from nltk import sent_tokenize\n",
        "nltk.download('punkt')\n",
        "nltk.download('stopwords')"
      ]
    },
    {
      "cell_type": "markdown",
      "source": [
        "> ## 4. Pergunta ao usuário qual é a palavra-chave"
      ],
      "metadata": {
        "id": "0j9-8CRDBGsP"
      }
    },
    {
      "cell_type": "code",
      "source": [
        "\n",
        "keyword = input(\"Informe a palavra-chave para a busca: \")"
      ],
      "metadata": {
        "colab": {
          "base_uri": "https://localhost:8080/",
          "height": 0
        },
        "id": "4AcU5PhO0tEk",
        "outputId": "43189a8b-3bb0-4a4a-8a7d-51126634d74a"
      },
      "execution_count": 119,
      "outputs": [
        {
          "name": "stdout",
          "output_type": "stream",
          "text": [
            "Informe a palavra-chave para a busca: reforma\n"
          ]
        }
      ]
    },
    {
      "cell_type": "markdown",
      "source": [
        "> **OBSERVAÇÃO:** usar palavra-chave com grafia usual no site, porque o modelo diferencia letras maiúscula e minúsculas."
      ],
      "metadata": {
        "id": "_A91XvvH1WjE"
      }
    },
    {
      "cell_type": "markdown",
      "source": [
        "> ## 5. Função busca links de todos os textos que tenham a palavra-chave dada no título"
      ],
      "metadata": {
        "id": "q0B-oS9cBMsk"
      }
    },
    {
      "cell_type": "code",
      "source": [
        "\n",
        "def obtem_links_relacionados(keyword):\n",
        "\n",
        "  resp = requests.get(\"https://www.globo.com/\") # Obtem HTML da página\n",
        "  http_encoding = resp.encoding if 'charset' in resp.headers.get('content-type', '').lower() else None\n",
        "  html_encoding = EncodingDetector.find_declared_encoding(resp.content, is_html=True)\n",
        "  encoding = html_encoding or http_encoding\n",
        "  soup = BeautifulSoup(resp.content, 'lxml', from_encoding=encoding) # Interpreta como XML e no encoding correto\n",
        "\n",
        "  links = []\n",
        "  # Obtem e percorre os links da pagina principal do portal\n",
        "  for link in soup.find_all(\"a\", {\"class\": \"post__link\"}):\n",
        "    # Se o titulo do texto tiver a palavra-chave\n",
        "    if link.get(\"title\").find(keyword) != -1:\n",
        "      # Imprime o titulo\n",
        "      print(\"Encontrei o texto: \" + link.get(\"title\"))\n",
        "      # Guarda link do texto na lista\n",
        "      links.append( link.get(\"href\") )\n",
        "\n",
        "  return links"
      ],
      "metadata": {
        "id": "_ZpXSbN-1tje"
      },
      "execution_count": 120,
      "outputs": []
    },
    {
      "cell_type": "markdown",
      "source": [
        "> ## 6. Função obtém os textos a partir do link dado"
      ],
      "metadata": {
        "id": "-pZevhdLBQjI"
      }
    },
    {
      "cell_type": "code",
      "source": [
        "\n",
        "def obtem_texto(link):\n",
        "\n",
        "  resp = requests.get(link) # Obtem o HTML da pagina\n",
        "  http_encoding = resp.encoding if 'charset' in resp.headers.get('content-type', '').lower() else None\n",
        "  html_encoding = EncodingDetector.find_declared_encoding(resp.content, is_html=True)\n",
        "  encoding = html_encoding or http_encoding\n",
        "  soup = BeautifulSoup(resp.content, 'lxml', from_encoding=encoding) # Interpreta como XML e no encoding correto\n",
        "\n",
        "  texto = \"\"\n",
        "  for p in soup.find_all(\"p\", {\"class\": \"content-text__container\"}):\n",
        "    texto += p.get_text()\n",
        "\n",
        "  return texto"
      ],
      "metadata": {
        "id": "k8tHof816qRd"
      },
      "execution_count": 121,
      "outputs": []
    },
    {
      "cell_type": "markdown",
      "source": [
        "> ## 7. Pré-processamento"
      ],
      "metadata": {
        "id": "ebWECkm1BX_x"
      }
    },
    {
      "cell_type": "code",
      "source": [
        "\n",
        "def preprocessar(texto):\n",
        "\n",
        "  # Deixa todo o texto em minusculas\n",
        "  texto = texto.lower()\n",
        "\n",
        "  # Tokeniza o texto\n",
        "  tokens = tokenize.word_tokenize(texto, language='portuguese')\n",
        "\n",
        "  tokens_limpos = tokens[:]\n",
        "  # Pre processa o texto -> remove numeros, pontuacoes, stopwords\n",
        "  stopwords = set( nltk.corpus.stopwords.words('portuguese') + list(punctuation) + list(\"0123456789\") )\n",
        "  for token in tokens:\n",
        "\n",
        "    if token in stopwords:\n",
        "      tokens_limpos.remove(token)\n",
        "\n",
        "  return tokens_limpos\n"
      ],
      "metadata": {
        "id": "3YJrU5Ms8J5S"
      },
      "execution_count": 122,
      "outputs": []
    },
    {
      "cell_type": "markdown",
      "source": [
        "> ## 8. Função Bag of Words para obter palavras mais frequentes"
      ],
      "metadata": {
        "id": "BlUZPsmdBcIH"
      }
    },
    {
      "cell_type": "code",
      "source": [
        "\n",
        "def bagofwords(tokens):\n",
        "\n",
        "  # Usa o FreqDist no NLTK; poderia usar o CountVectorizer do scikit-learn\n",
        "  freq = nltk.FreqDist(tokens)\n",
        "  # Obtem as 100 palavras mais frequentes\n",
        "  top_words = freq.most_common(100)\n",
        "\n",
        "  return freq, top_words"
      ],
      "metadata": {
        "id": "ZVD8nkwd9sAf"
      },
      "execution_count": 123,
      "outputs": []
    },
    {
      "cell_type": "markdown",
      "source": [
        "> ## 9. Função do sumarizador de textos"
      ],
      "metadata": {
        "id": "prdZlq6EstjB"
      }
    },
    {
      "cell_type": "code",
      "source": [
        "\n",
        "def sumarizar(texto, top_words, freq):\n",
        "\n",
        "  # Separa o texto original em sentenças\n",
        "  sentencas = sent_tokenize(texto)\n",
        "\n",
        "  # Sentencas com maior quantidade de palavras frequentes tem maior pontuacao\n",
        "  ranking = collections.defaultdict(int)\n",
        "  for i, sent in enumerate(sentencas):\n",
        "    for word in tokenize.word_tokenize(sent.lower()):\n",
        "      if word in freq:\n",
        "        ranking[i] += freq[word]\n",
        "    top_sentences = nlargest(4, ranking, ranking.get) # Quantidade de sentencas pode ser editada nesta linha\n",
        "\n",
        "  # Ordena as sentencas com maior pontuacao\n",
        "  sorted_sentences = [sentencas[j] for j in sorted(top_sentences)]\n",
        "\n",
        "  return sorted_sentences"
      ],
      "metadata": {
        "id": "f-cwZ1ye-rv7"
      },
      "execution_count": 124,
      "outputs": []
    },
    {
      "cell_type": "markdown",
      "source": [
        "> ## 10. Teste do sumarizador"
      ],
      "metadata": {
        "id": "XyGMXoutBtEK"
      }
    },
    {
      "cell_type": "code",
      "source": [
        "# Obtem links dos textos relacionados\n",
        "links = obtem_links_relacionados(keyword)\n",
        "print(\"\\nLinks: \", links)\n",
        "\n",
        "# Percorre os links encontrados\n",
        "for link in links:\n",
        "\n",
        "  # Obtem o texto da reportagem\n",
        "  texto = obtem_texto(link)\n",
        "  print(\"\\nTexto: \", texto)\n",
        "\n",
        "  # Efetua pre-processamento\n",
        "  tokens = preprocessar(texto)\n",
        "  print(\"\\nTokens: \", tokens)\n",
        "\n",
        "  # Aplica bag-of-words\n",
        "  freq, top_words = bagofwords(tokens)\n",
        "\n",
        "  # Sumariza e obtem temas centrais do texto\n",
        "  sentencas = sumarizar(texto, top_words, freq)\n",
        "  print(\"\\nSentenças: \", sentencas)\n",
        "\n",
        "  # Imprime\n",
        "  print(\"\\nNOTÍCIA: \" + link)\n",
        "  print(\"SUMÁRIO: \")\n",
        "  for s in sentencas:\n",
        "    print(s)\n",
        "\n",
        "  print(\"\\nTERMOS CENTRAIS: \")\n",
        "  print(top_words)\n",
        "  print(\"--------------\\n\\n\")"
      ],
      "metadata": {
        "colab": {
          "base_uri": "https://localhost:8080/",
          "height": 0
        },
        "id": "4kFmF1ctAhAe",
        "outputId": "4eecd737-f015-4ce3-958e-37135f74c154"
      },
      "execution_count": 125,
      "outputs": [
        {
          "output_type": "stream",
          "name": "stdout",
          "text": [
            "Encontrei o texto: Lula encaminha reforma ministerial e conversará com PSB\n",
            "Encontrei o texto: Duailibi: saiba como ficou o desenho da reforma\n",
            "\n",
            "Links:  ['https://g1.globo.com/politica/noticia/2023/09/04/minirreforma-ministerial-deve-ser-anunciada-ate-quarta-mas-lula-ainda-vai-conversar-com-o-psb-de-alckmin.ghtml', 'https://g1.globo.com/politica/blog/julia-duailibi/post/2023/09/04/lula-decide-dar-esporte-para-o-pp-e-portos-e-aeroportos-para-o-republicanos-presidente-vai-conversar-com-ana-moser-e-alckmin.ghtml']\n",
            "\n",
            "Texto:   Governo quer atrair partidos do Centrão para a base aliada e obter mais votos no Congresso  Lula chegou a cogitar desmembrar a pasta do Desenvolvimento Social e a da Indústria, mas voltou atrás diante do desinteresse do Centrão nessa solução  Dificuldade agora é encontrar uma pasta para acomodar o ministro Márcio França  A minirreforma ministerial, que está sendo desenhada pelo presidente Luiz Inácio Lula da Silva, deve ser anunciada até a quarta-feira (6), depois de várias semanas de negociações e idas e vindas.  Para concluir o tema de uma vez por todas, Lula ainda quer conversar com o vice-presidente Geraldo Alckmin. A ideia é discutir o que acontecerá com o PSB, partido de Alckmin, na reforma.  Lula busca fazer trocas na equipe para comportar o PP e o Republicanos no governo. Os dois partidos do Centrão seriam contemplados cada um com um ministério.  Está praticamente fechado que:  Com isso, o atual ministro de Portos e Aeroportos, Márcio França (PSB), precisará ser reacomodado em outra pasta. Uma alternativa é a Ciência e Tecnologia, da ministra Luciana Santos.  Outra opção é França ocupar o lugar de Alckmin à frente do Ministério da Indústria e Comércio Exterior.  Lula chegou a anunciar a criação de um novo ministério, o da Pequena e Média Empresa, que seria uma subdivisão da pasta de Alckmin. Mas agora o presidente voltou atrás nessa ideia, diante da falta de interesse do Centrão na nova pasta.  Lula deve discutir a minirreforma com Alckmin na noite desta segunda (4).  No início das negociações sobre a minirreforma ministerial, Lula chegou a dizer que a atual ministra dos Esportes, Ana Moser, não deixaria o cargo. Com o tempo, a possibilidade foi ganhando força.  Lula deve conversar com a ex-jogadora da seleção de vôlei nesta terça (5).  O PP, de Fufuca, aceitou a pasta dos Esportes diante da chance de o ministério ser o responsável pela aplicação de políticas de regulação das apostas esportivas, um mercado em ascensão. O Congresso deve aprovar a regulamentação das apostas nos próximos dias.  Com isso, não deve haver mudança no Ministério do Desenvolvimento Social, atualmente ocupado pelo ministro Wellington Dias, do PT. O ministério é responsável pelo programa Bolsa Família, do qual o PT não quer abrir mão.  Há algumas semanas, o PP tinha demonstrado interesse na pasta, e o governo Lula chegou a cogitar dividir o ministério em duas áreas: a de assistência social e a de combate à pobreza, preservando com o PT o Bolsa Família. \n",
            "\n",
            "Tokens:  ['governo', 'quer', 'atrair', 'partidos', 'centrão', 'base', 'aliada', 'obter', 'votos', 'congresso', 'lula', 'chegou', 'cogitar', 'desmembrar', 'pasta', 'desenvolvimento', 'social', 'indústria', 'voltou', 'atrás', 'diante', 'desinteresse', 'centrão', 'nessa', 'solução', 'dificuldade', 'agora', 'encontrar', 'pasta', 'acomodar', 'ministro', 'márcio', 'frança', 'minirreforma', 'ministerial', 'sendo', 'desenhada', 'presidente', 'luiz', 'inácio', 'lula', 'silva', 'deve', 'anunciada', 'quarta-feira', 'várias', 'semanas', 'negociações', 'idas', 'vindas', 'concluir', 'tema', 'vez', 'todas', 'lula', 'ainda', 'quer', 'conversar', 'vice-presidente', 'geraldo', 'alckmin', 'ideia', 'discutir', 'acontecerá', 'psb', 'partido', 'alckmin', 'reforma', 'lula', 'busca', 'fazer', 'trocas', 'equipe', 'comportar', 'pp', 'republicanos', 'governo', 'dois', 'partidos', 'centrão', 'contemplados', 'cada', 'ministério', 'praticamente', 'fechado', 'atual', 'ministro', 'portos', 'aeroportos', 'márcio', 'frança', 'psb', 'precisará', 'reacomodado', 'outra', 'pasta', 'alternativa', 'ciência', 'tecnologia', 'ministra', 'luciana', 'santos', 'outra', 'opção', 'frança', 'ocupar', 'lugar', 'alckmin', 'frente', 'ministério', 'indústria', 'comércio', 'exterior', 'lula', 'chegou', 'anunciar', 'criação', 'novo', 'ministério', 'pequena', 'média', 'empresa', 'subdivisão', 'pasta', 'alckmin', 'agora', 'presidente', 'voltou', 'atrás', 'nessa', 'ideia', 'diante', 'falta', 'interesse', 'centrão', 'nova', 'pasta', 'lula', 'deve', 'discutir', 'minirreforma', 'alckmin', 'noite', 'desta', 'segunda', 'início', 'negociações', 'sobre', 'minirreforma', 'ministerial', 'lula', 'chegou', 'dizer', 'atual', 'ministra', 'esportes', 'ana', 'moser', 'deixaria', 'cargo', 'tempo', 'possibilidade', 'ganhando', 'força', 'lula', 'deve', 'conversar', 'ex-jogadora', 'seleção', 'vôlei', 'nesta', 'terça', 'pp', 'fufuca', 'aceitou', 'pasta', 'esportes', 'diante', 'chance', 'ministério', 'responsável', 'aplicação', 'políticas', 'regulação', 'apostas', 'esportivas', 'mercado', 'ascensão', 'congresso', 'deve', 'aprovar', 'regulamentação', 'apostas', 'próximos', 'dias', 'deve', 'mudança', 'ministério', 'desenvolvimento', 'social', 'atualmente', 'ocupado', 'ministro', 'wellington', 'dias', 'pt', 'ministério', 'responsável', 'programa', 'bolsa', 'família', 'pt', 'quer', 'abrir', 'mão', 'algumas', 'semanas', 'pp', 'demonstrado', 'interesse', 'pasta', 'governo', 'lula', 'chegou', 'cogitar', 'dividir', 'ministério', 'duas', 'áreas', 'assistência', 'social', 'combate', 'pobreza', 'preservando', 'pt', 'bolsa', 'família']\n",
            "\n",
            "Sentenças:  [' Governo quer atrair partidos do Centrão para a base aliada e obter mais votos no Congresso  Lula chegou a cogitar desmembrar a pasta do Desenvolvimento Social e a da Indústria, mas voltou atrás diante do desinteresse do Centrão nessa solução  Dificuldade agora é encontrar uma pasta para acomodar o ministro Márcio França  A minirreforma ministerial, que está sendo desenhada pelo presidente Luiz Inácio Lula da Silva, deve ser anunciada até a quarta-feira (6), depois de várias semanas de negociações e idas e vindas.', 'Lula chegou a anunciar a criação de um novo ministério, o da Pequena e Média Empresa, que seria uma subdivisão da pasta de Alckmin.', 'O PP, de Fufuca, aceitou a pasta dos Esportes diante da chance de o ministério ser o responsável pela aplicação de políticas de regulação das apostas esportivas, um mercado em ascensão.', 'Há algumas semanas, o PP tinha demonstrado interesse na pasta, e o governo Lula chegou a cogitar dividir o ministério em duas áreas: a de assistência social e a de combate à pobreza, preservando com o PT o Bolsa Família.']\n",
            "\n",
            "NOTÍCIA: https://g1.globo.com/politica/noticia/2023/09/04/minirreforma-ministerial-deve-ser-anunciada-ate-quarta-mas-lula-ainda-vai-conversar-com-o-psb-de-alckmin.ghtml\n",
            "SUMÁRIO: \n",
            " Governo quer atrair partidos do Centrão para a base aliada e obter mais votos no Congresso  Lula chegou a cogitar desmembrar a pasta do Desenvolvimento Social e a da Indústria, mas voltou atrás diante do desinteresse do Centrão nessa solução  Dificuldade agora é encontrar uma pasta para acomodar o ministro Márcio França  A minirreforma ministerial, que está sendo desenhada pelo presidente Luiz Inácio Lula da Silva, deve ser anunciada até a quarta-feira (6), depois de várias semanas de negociações e idas e vindas.\n",
            "Lula chegou a anunciar a criação de um novo ministério, o da Pequena e Média Empresa, que seria uma subdivisão da pasta de Alckmin.\n",
            "O PP, de Fufuca, aceitou a pasta dos Esportes diante da chance de o ministério ser o responsável pela aplicação de políticas de regulação das apostas esportivas, um mercado em ascensão.\n",
            "Há algumas semanas, o PP tinha demonstrado interesse na pasta, e o governo Lula chegou a cogitar dividir o ministério em duas áreas: a de assistência social e a de combate à pobreza, preservando com o PT o Bolsa Família.\n",
            "\n",
            "TERMOS CENTRAIS: \n",
            "[('lula', 9), ('pasta', 7), ('ministério', 7), ('deve', 5), ('alckmin', 5), ('centrão', 4), ('chegou', 4), ('governo', 3), ('quer', 3), ('social', 3), ('diante', 3), ('ministro', 3), ('frança', 3), ('minirreforma', 3), ('pp', 3), ('pt', 3), ('partidos', 2), ('congresso', 2), ('cogitar', 2), ('desenvolvimento', 2), ('indústria', 2), ('voltou', 2), ('atrás', 2), ('nessa', 2), ('agora', 2), ('márcio', 2), ('ministerial', 2), ('presidente', 2), ('semanas', 2), ('negociações', 2), ('conversar', 2), ('ideia', 2), ('discutir', 2), ('psb', 2), ('atual', 2), ('outra', 2), ('ministra', 2), ('interesse', 2), ('esportes', 2), ('responsável', 2), ('apostas', 2), ('dias', 2), ('bolsa', 2), ('família', 2), ('atrair', 1), ('base', 1), ('aliada', 1), ('obter', 1), ('votos', 1), ('desmembrar', 1), ('desinteresse', 1), ('solução', 1), ('dificuldade', 1), ('encontrar', 1), ('acomodar', 1), ('sendo', 1), ('desenhada', 1), ('luiz', 1), ('inácio', 1), ('silva', 1), ('anunciada', 1), ('quarta-feira', 1), ('várias', 1), ('idas', 1), ('vindas', 1), ('concluir', 1), ('tema', 1), ('vez', 1), ('todas', 1), ('ainda', 1), ('vice-presidente', 1), ('geraldo', 1), ('acontecerá', 1), ('partido', 1), ('reforma', 1), ('busca', 1), ('fazer', 1), ('trocas', 1), ('equipe', 1), ('comportar', 1), ('republicanos', 1), ('dois', 1), ('contemplados', 1), ('cada', 1), ('praticamente', 1), ('fechado', 1), ('portos', 1), ('aeroportos', 1), ('precisará', 1), ('reacomodado', 1), ('alternativa', 1), ('ciência', 1), ('tecnologia', 1), ('luciana', 1), ('santos', 1), ('opção', 1), ('ocupar', 1), ('lugar', 1), ('frente', 1), ('comércio', 1)]\n",
            "--------------\n",
            "\n",
            "\n",
            "\n",
            "Texto:   O presidente Luiz Inácio Lula da Silva (PT) encaminhou o desenho da reforma ministerial: segundo auxiliares palacianos, ele decidiu oferecer o Ministério do Esporte para o deputado André Fufuca (PP-MA), e a pasta de Portos e Aeroportos para o deputado Silvio Costa Filho (Republicanos-PE).  Lula definiu esse desenho após ter reuniões ao longo do dia com os ministros Alexandre Padilha (Relações Institucionais), Rui Costa (Casa Civil) e Paulo Pimenta (Comunicação Social). A conclusão da reforma, no entanto, ainda depende de conversas com os ministros que devem ser substituídos, o que leva auxiliares palacianos a adotar um tom mais cauteloso. \"Não dá para cravar nada ainda. Lula está muito caótico. Muda de ideia a cada dia\", afirmou um interlocutor do Planalto.  O presidente quer se reunir nas próximas horas com a atual ministra do Esporte, Ana Moser, para tratar de uma possível saída dela. Também vai se reunir com o vice-presidente, Geraldo Alckmin (PSB), para falar sobre o destino de Márcio França , que ocupa a pasta de Portos e Aeroportos. Depois de conversar com o vice, Lula deve se reunir com o próprio Márcio França.  LEIA TAMBÉM:  A expectativa dos auxiliares próximos de Lula é definir, finalmente, a reforma ministerial no máximo até quarta-feira (6). Na quinta, Lula embarca para Nova Delhi, na Índia, para participar da cúpula do G20, organização que reúne ministros da Economia e presidentes dos Bancos Centrais de 19 países e da União Europeia.  O PP deseja ficar também com a Secretaria das Apostas Esportivas, órgão que vai ser criado para regulamentar e credenciar as casas de aposta. Outra tarefa da secretaria será acompanhar a arrecadação resultante da tributação das “bets”, empresas de apostas esportivas.  A ideia original era que a secretaria, que terá 60 cargos, fosse subordinada ao Ministério da Fazenda, sob o comando de José Francisco Mansur, assessor especial do ministro Fernando Haddad.  A criação do Ministério da Pequena Empresa, anunciada na semana passada por Lula, ainda é incerta. A pasta pode sair do papel de houver interesse de Márcio França em ocupá-la. \n",
            "\n",
            "Tokens:  ['presidente', 'luiz', 'inácio', 'lula', 'silva', 'pt', 'encaminhou', 'desenho', 'reforma', 'ministerial', 'segundo', 'auxiliares', 'palacianos', 'decidiu', 'oferecer', 'ministério', 'esporte', 'deputado', 'andré', 'fufuca', 'pp-ma', 'pasta', 'portos', 'aeroportos', 'deputado', 'silvio', 'costa', 'filho', 'republicanos-pe', 'lula', 'definiu', 'desenho', 'após', 'ter', 'reuniões', 'longo', 'dia', 'ministros', 'alexandre', 'padilha', 'relações', 'institucionais', 'rui', 'costa', 'casa', 'civil', 'paulo', 'pimenta', 'comunicação', 'social', 'conclusão', 'reforma', 'entanto', 'ainda', 'depende', 'conversas', 'ministros', 'devem', 'substituídos', 'leva', 'auxiliares', 'palacianos', 'adotar', 'tom', 'cauteloso', '``', 'dá', 'cravar', 'nada', 'ainda', 'lula', 'caótico', 'muda', 'ideia', 'cada', 'dia', \"''\", 'afirmou', 'interlocutor', 'planalto', 'presidente', 'quer', 'reunir', 'próximas', 'horas', 'atual', 'ministra', 'esporte', 'ana', 'moser', 'tratar', 'possível', 'saída', 'vai', 'reunir', 'vice-presidente', 'geraldo', 'alckmin', 'psb', 'falar', 'sobre', 'destino', 'márcio', 'frança', 'ocupa', 'pasta', 'portos', 'aeroportos', 'conversar', 'vice', 'lula', 'deve', 'reunir', 'próprio', 'márcio', 'frança', 'leia', 'expectativa', 'auxiliares', 'próximos', 'lula', 'definir', 'finalmente', 'reforma', 'ministerial', 'máximo', 'quarta-feira', 'quinta', 'lula', 'embarca', 'nova', 'delhi', 'índia', 'participar', 'cúpula', 'g20', 'organização', 'reúne', 'ministros', 'economia', 'presidentes', 'bancos', 'centrais', '19', 'países', 'união', 'europeia', 'pp', 'deseja', 'ficar', 'secretaria', 'apostas', 'esportivas', 'órgão', 'vai', 'criado', 'regulamentar', 'credenciar', 'casas', 'aposta', 'outra', 'tarefa', 'secretaria', 'acompanhar', 'arrecadação', 'resultante', 'tributação', '“', 'bets', '”', 'empresas', 'apostas', 'esportivas', 'ideia', 'original', 'secretaria', '60', 'cargos', 'subordinada', 'ministério', 'fazenda', 'sob', 'comando', 'josé', 'francisco', 'mansur', 'assessor', 'especial', 'ministro', 'fernando', 'haddad', 'criação', 'ministério', 'pequena', 'empresa', 'anunciada', 'semana', 'passada', 'lula', 'ainda', 'incerta', 'pasta', 'pode', 'sair', 'papel', 'interesse', 'márcio', 'frança', 'ocupá-la']\n",
            "\n",
            "Sentenças:  [' O presidente Luiz Inácio Lula da Silva (PT) encaminhou o desenho da reforma ministerial: segundo auxiliares palacianos, ele decidiu oferecer o Ministério do Esporte para o deputado André Fufuca (PP-MA), e a pasta de Portos e Aeroportos para o deputado Silvio Costa Filho (Republicanos-PE).', 'Lula definiu esse desenho após ter reuniões ao longo do dia com os ministros Alexandre Padilha (Relações Institucionais), Rui Costa (Casa Civil) e Paulo Pimenta (Comunicação Social).', 'Também vai se reunir com o vice-presidente, Geraldo Alckmin (PSB), para falar sobre o destino de Márcio França , que ocupa a pasta de Portos e Aeroportos.', 'Na quinta, Lula embarca para Nova Delhi, na Índia, para participar da cúpula do G20, organização que reúne ministros da Economia e presidentes dos Bancos Centrais de 19 países e da União Europeia.']\n",
            "\n",
            "NOTÍCIA: https://g1.globo.com/politica/blog/julia-duailibi/post/2023/09/04/lula-decide-dar-esporte-para-o-pp-e-portos-e-aeroportos-para-o-republicanos-presidente-vai-conversar-com-ana-moser-e-alckmin.ghtml\n",
            "SUMÁRIO: \n",
            " O presidente Luiz Inácio Lula da Silva (PT) encaminhou o desenho da reforma ministerial: segundo auxiliares palacianos, ele decidiu oferecer o Ministério do Esporte para o deputado André Fufuca (PP-MA), e a pasta de Portos e Aeroportos para o deputado Silvio Costa Filho (Republicanos-PE).\n",
            "Lula definiu esse desenho após ter reuniões ao longo do dia com os ministros Alexandre Padilha (Relações Institucionais), Rui Costa (Casa Civil) e Paulo Pimenta (Comunicação Social).\n",
            "Também vai se reunir com o vice-presidente, Geraldo Alckmin (PSB), para falar sobre o destino de Márcio França , que ocupa a pasta de Portos e Aeroportos.\n",
            "Na quinta, Lula embarca para Nova Delhi, na Índia, para participar da cúpula do G20, organização que reúne ministros da Economia e presidentes dos Bancos Centrais de 19 países e da União Europeia.\n",
            "\n",
            "TERMOS CENTRAIS: \n",
            "[('lula', 7), ('reforma', 3), ('auxiliares', 3), ('ministério', 3), ('pasta', 3), ('ministros', 3), ('ainda', 3), ('reunir', 3), ('márcio', 3), ('frança', 3), ('secretaria', 3), ('presidente', 2), ('desenho', 2), ('ministerial', 2), ('palacianos', 2), ('esporte', 2), ('deputado', 2), ('portos', 2), ('aeroportos', 2), ('costa', 2), ('dia', 2), ('ideia', 2), ('vai', 2), ('apostas', 2), ('esportivas', 2), ('luiz', 1), ('inácio', 1), ('silva', 1), ('pt', 1), ('encaminhou', 1), ('segundo', 1), ('decidiu', 1), ('oferecer', 1), ('andré', 1), ('fufuca', 1), ('pp-ma', 1), ('silvio', 1), ('filho', 1), ('republicanos-pe', 1), ('definiu', 1), ('após', 1), ('ter', 1), ('reuniões', 1), ('longo', 1), ('alexandre', 1), ('padilha', 1), ('relações', 1), ('institucionais', 1), ('rui', 1), ('casa', 1), ('civil', 1), ('paulo', 1), ('pimenta', 1), ('comunicação', 1), ('social', 1), ('conclusão', 1), ('entanto', 1), ('depende', 1), ('conversas', 1), ('devem', 1), ('substituídos', 1), ('leva', 1), ('adotar', 1), ('tom', 1), ('cauteloso', 1), ('``', 1), ('dá', 1), ('cravar', 1), ('nada', 1), ('caótico', 1), ('muda', 1), ('cada', 1), (\"''\", 1), ('afirmou', 1), ('interlocutor', 1), ('planalto', 1), ('quer', 1), ('próximas', 1), ('horas', 1), ('atual', 1), ('ministra', 1), ('ana', 1), ('moser', 1), ('tratar', 1), ('possível', 1), ('saída', 1), ('vice-presidente', 1), ('geraldo', 1), ('alckmin', 1), ('psb', 1), ('falar', 1), ('sobre', 1), ('destino', 1), ('ocupa', 1), ('conversar', 1), ('vice', 1), ('deve', 1), ('próprio', 1), ('leia', 1), ('expectativa', 1)]\n",
            "--------------\n",
            "\n",
            "\n"
          ]
        }
      ]
    },
    {
      "cell_type": "markdown",
      "source": [
        "> ## 11. Melhorias para o projeto\n",
        "- Incluir conversão para letra minúscula, passar tudo para o singular na etapa de normalização\n",
        "- Aplicar o TF-IDF para medir a importância das palavras\n",
        "- Executar Stemming ou lematização no vocabulário, pois a redução das palavras as torna mais adequadas à lista de tokens\n",
        "- Criar uma wordcloud dos termos\n",
        "- Colocar os verbos na lista de stopwords para retirá-los todos\n",
        "- Utilizar outros algoritmos de sumarização, como a bilioteca <a href=\"https://pypi.org/project/sumy/\">Sumy</a>, que tem vários métodos implementados"
      ],
      "metadata": {
        "id": "CaJHW7s5EK72"
      }
    }
  ]
}